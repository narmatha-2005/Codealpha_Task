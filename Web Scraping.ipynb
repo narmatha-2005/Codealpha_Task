{
 "cells": [
  {
   "cell_type": "markdown",
   "id": "e9295a20-762b-48d1-bd52-13f6cadd3307",
   "metadata": {},
   "source": [
    "# **Importing Necessary Libraries**"
   ]
  },
  {
   "cell_type": "code",
   "execution_count": 1,
   "id": "279f5204-588e-414c-8c25-87cb10d7347c",
   "metadata": {},
   "outputs": [],
   "source": [
    "import requests\n",
    "from bs4 import BeautifulSoup\n",
    "import pandas as pd\n",
    "\n",
    "\n"
   ]
  },
  {
   "cell_type": "markdown",
   "id": "41a24bbf-bbd5-4e32-b7e6-a13fcd0948fe",
   "metadata": {},
   "source": [
    "# **Define the URL**"
   ]
  },
  {
   "cell_type": "code",
   "execution_count": 2,
   "id": "a5069b06-41be-4310-8145-0f325f50225a",
   "metadata": {},
   "outputs": [],
   "source": [
    "url = 'https://www.imdb.com/news/movie'"
   ]
  },
  {
   "cell_type": "markdown",
   "id": "e8e66f78-95f8-42ba-b0f1-0e7616ae42de",
   "metadata": {},
   "source": [
    "# **Set headers to mimic a real browser**\n"
   ]
  },
  {
   "cell_type": "code",
   "execution_count": 3,
   "id": "e668be5d-de83-4671-a2ca-270214aca307",
   "metadata": {},
   "outputs": [],
   "source": [
    "headers = {\n",
    "    'User-Agent': 'Mozilla/5.0 (Windows NT 10.0; Win64; x64)'\n",
    "}\n"
   ]
  },
  {
   "cell_type": "markdown",
   "id": "5c0f0875-bf79-4250-a316-ec3338ff7b50",
   "metadata": {},
   "source": [
    "# **Send the HTTP request**"
   ]
  },
  {
   "cell_type": "code",
   "execution_count": 4,
   "id": "67cb3467-1b7f-43ca-a941-a320d96556bc",
   "metadata": {},
   "outputs": [],
   "source": [
    "response = requests.get(url, headers=headers)"
   ]
  },
  {
   "cell_type": "markdown",
   "id": "74e1510e-1e6d-40d0-be4d-e5e7d0ddb6a3",
   "metadata": {},
   "source": [
    "# **Parse the response with BeautifulSoup**"
   ]
  },
  {
   "cell_type": "code",
   "execution_count": 5,
   "id": "6a25d32a-ab3e-4f01-a1ae-f58ed04d91ba",
   "metadata": {},
   "outputs": [],
   "source": [
    "soup = BeautifulSoup(response.content, 'html.parser')\n",
    "\n"
   ]
  },
  {
   "cell_type": "markdown",
   "id": "b6e0cd2d-a701-4dd9-a670-4431b36552d1",
   "metadata": {},
   "source": [
    "# **Select headline elements**"
   ]
  },
  {
   "cell_type": "code",
   "execution_count": 6,
   "id": "ab5da2ed-53ad-4953-9682-ac6be6d14c3c",
   "metadata": {},
   "outputs": [],
   "source": [
    "headline_tags = soup.select('.news-article__content a')\n",
    "\n"
   ]
  },
  {
   "cell_type": "markdown",
   "id": "9a6ee96a-7235-4d79-ac91-c705b79a6f67",
   "metadata": {},
   "source": [
    "# **Extract title and link**\n"
   ]
  },
  {
   "cell_type": "code",
   "execution_count": 8,
   "id": "a0cb02be-f937-4c7f-b704-931425191014",
   "metadata": {},
   "outputs": [],
   "source": [
    "news_data = []\n",
    "for tag in headline_tags:\n",
    "    title = tag.get_text(strip=True)\n",
    "    link = tag.get('href')\n",
    "\n",
    "    if not title or len(title) < 5:\n",
    "        continue\n",
    "\n",
    "    if link.startswith('/'):\n",
    "        link = 'https://www.imdb.com' + link\n",
    "\n",
    "    news_data.append({\n",
    "        'Title': title,\n",
    "        'Link': link\n",
    "    })\n",
    "\n"
   ]
  },
  {
   "cell_type": "markdown",
   "id": "f30ca870-dd33-41ee-9f94-d7524230901a",
   "metadata": {},
   "source": [
    "# **Remove duplicates and save as CSV**\n"
   ]
  },
  {
   "cell_type": "code",
   "execution_count": 9,
   "id": "b90457bb-7325-4e03-985c-053e5687f213",
   "metadata": {},
   "outputs": [],
   "source": [
    "df = pd.DataFrame(news_data).drop_duplicates().reset_index(drop=True)\n",
    "df.to_csv(\"imdb_movie_news.csv\", index=False)\n",
    "\n"
   ]
  },
  {
   "cell_type": "markdown",
   "id": "a585737e-e8e1-4721-8ea5-baf6ad8daf08",
   "metadata": {},
   "source": [
    "# **Print sample rows**"
   ]
  },
  {
   "cell_type": "code",
   "execution_count": 13,
   "id": "c7748377-9868-4e3c-9c29-5d04b22af901",
   "metadata": {},
   "outputs": [
    {
     "name": "stdout",
     "output_type": "stream",
     "text": [
      "Scraping successful! Sample data:\n"
     ]
    }
   ],
   "source": [
    "print(\"Scraping successful! Sample data:\")"
   ]
  },
  {
   "cell_type": "code",
   "execution_count": null,
   "id": "5c18927a-0cab-4bd0-9a94-08b0c2a1c168",
   "metadata": {},
   "outputs": [],
   "source": []
  }
 ],
 "metadata": {
  "kernelspec": {
   "display_name": "Python 3 (ipykernel)",
   "language": "python",
   "name": "python3"
  },
  "language_info": {
   "codemirror_mode": {
    "name": "ipython",
    "version": 3
   },
   "file_extension": ".py",
   "mimetype": "text/x-python",
   "name": "python",
   "nbconvert_exporter": "python",
   "pygments_lexer": "ipython3",
   "version": "3.12.7"
  }
 },
 "nbformat": 4,
 "nbformat_minor": 5
}
